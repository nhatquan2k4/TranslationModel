{
 "cells": [
  {
   "cell_type": "code",
   "execution_count": 3,
   "id": "a9e803d5",
   "metadata": {},
   "outputs": [
    {
     "name": "stdout",
     "output_type": "stream",
     "text": [
      "Step | Input | Hidden state           | Output probs\n",
      "-----------------------------------------------------\n",
      "   0 |  h    | [-0.01382555 -0.02340942  0.05420283] | [0.24920744 0.2496621  0.25092641 0.25020405]\n",
      "   1 |  e    | [ 0.04443694 -0.01856152 -0.03442808] | [0.25076593 0.2501551  0.25076896 0.24831001]\n",
      "   2 |  l    | [ 0.07519177  0.15496216 -0.05275223] | [0.24983535 0.2490453  0.2469025  0.25421685]\n",
      "   3 |  l    | [ 0.04600643  0.135502   -0.08259774] | [0.25048855 0.24970352 0.24660006 0.25320788]\n",
      "   4 |  o    | [ 0.14079667  0.05777251 -0.08181014] | [0.25110552 0.24948492 0.2499378  0.24947176]\n"
     ]
    }
   ],
   "source": [
    "import numpy as np\n",
    "\n",
    "# Dữ liệu và vocab\n",
    "data = \"hello\"\n",
    "chars = sorted(list(set(data)))  # ['e', 'h', 'l', 'o']\n",
    "vocab_size = len(chars)\n",
    "\n",
    "char_to_ix = {ch: i for i, ch in enumerate(chars)}\n",
    "ix_to_char = {i: ch for ch, i in char_to_ix.items()}\n",
    "\n",
    "# Kích thước hidden\n",
    "hidden_size = 3\n",
    "\n",
    "# Khởi tạo trọng số ngẫu nhiên (giống hình minh họa)\n",
    "np.random.seed(42)\n",
    "Wxh = np.random.randn(hidden_size, vocab_size) * 0.1  # input -> hidden\n",
    "Whh = np.random.randn(hidden_size, hidden_size) * 0.1 # hidden -> hidden\n",
    "Why = np.random.randn(vocab_size, hidden_size) * 0.1  # hidden -> output\n",
    "bh = np.zeros((hidden_size, 1))\n",
    "by = np.zeros((vocab_size, 1))\n",
    "\n",
    "# Hàm one-hot\n",
    "def one_hot(char):\n",
    "    vec = np.zeros((vocab_size, 1))\n",
    "    vec[char_to_ix[char]] = 1\n",
    "    return vec\n",
    "\n",
    "# RNN forward\n",
    "h_prev = np.zeros((hidden_size, 1))\n",
    "print(\"Step | Input | Hidden state           | Output probs\")\n",
    "print(\"-----------------------------------------------------\")\n",
    "\n",
    "for t in range(len(data)):\n",
    "    x = one_hot(data[t])\n",
    "    h = np.tanh(np.dot(Wxh, x) + np.dot(Whh, h_prev) + bh)\n",
    "    y = np.dot(Why, h) + by\n",
    "    p = np.exp(y) / np.sum(np.exp(y))  # softmax\n",
    "    \n",
    "    print(f\"{t:4} |  {data[t]}    | {h.ravel()} | {p.ravel()}\")\n",
    "    \n",
    "    h_prev = h  # chuyển sang bước tiếp theo\n"
   ]
  }
 ],
 "metadata": {
  "kernelspec": {
   "display_name": "NQ",
   "language": "python",
   "name": "python3"
  },
  "language_info": {
   "codemirror_mode": {
    "name": "ipython",
    "version": 3
   },
   "file_extension": ".py",
   "mimetype": "text/x-python",
   "name": "python",
   "nbconvert_exporter": "python",
   "pygments_lexer": "ipython3",
   "version": "3.10.11"
  }
 },
 "nbformat": 4,
 "nbformat_minor": 5
}
